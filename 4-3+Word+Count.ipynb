{
 "cells": [
  {
   "cell_type": "code",
   "execution_count": null,
   "metadata": {
    "collapsed": true
   },
   "outputs": [],
   "source": []
  },
  {
   "cell_type": "markdown",
   "metadata": {},
   "source": [
    "# Code to Open and Read a Text File\n",
    "Then count the words and print the count\n",
    "\n",
    "The following are some text copies of famous documents in the Data folder.\n",
    "\n",
    "* 95Theses.txt – Germany English translation of Martin Luther's “Disputation on the Power and Efficacy of Indulgences,” also known as “The 95 Theses,”\n",
    "* DoI.txt – US Declaration of Independence\n",
    "* BoR.txt – US Original Bill of Rights\n",
    "* BoR-Full.txt – US Bill of Rights with all Amendments\n",
    "* Constitution.txt – US Constitution\n",
    "* Gettysburg.txt – US President Lincoln's Gettysburg Address\n",
    "* MagnaCarta.txt – England 1215 (English translation)\n",
    "* Margaritaville.txt – Lyrics by Jimmy Buffett\n",
    "* UDHR.txt – UN The Universal Declaration of Human Rights\n",
    "* Romeo and Juliet.txt - Act 2, Scene II. Capulet's orchard.\n",
    "\n",
    "You can use any of them in place of **Romeo and Juliet.txt**. Note the names may be case sensitive, although I'm not finding that to be the case."
   ]
  },
  {
   "cell_type": "code",
   "execution_count": null,
   "metadata": {
    "collapsed": true
   },
   "outputs": [],
   "source": [
    "fname = 'data\\Romeo and Juliet.txt'   # define file to open. Case sensitive. File in our data folder.\n",
    "fhand = open(fname)                   # fhand is a handle or open connection to the file\n",
    "wcount = 0                            # create a variable to count the words\n",
    "for line in fhand:                    # for each line in the open file\n",
    "    words = line.split()              # creates a list (words) of the line broken up into seperate words\n",
    "    for word in words:                # for each word in the list words\n",
    "        wcount = wcount + 1           # increase the word count by one\n",
    "print(\"Total words: \", wcount)"
   ]
  },
  {
   "cell_type": "markdown",
   "metadata": {},
   "source": [
    "### Add two temporary print() commands just to see what is in the variables line and words"
   ]
  },
  {
   "cell_type": "code",
   "execution_count": null,
   "metadata": {
    "collapsed": true
   },
   "outputs": [],
   "source": [
    "fname = 'data\\Romeo and Juliet.txt'\n",
    "fhand = open(fname)\n",
    "wcount = 0\n",
    "for line in fhand:\n",
    "    print(line)                       # print line to see what is in it\n",
    "    words = line.split()\n",
    "    print(words)                      # ptint words to see what is in it\n",
    "    for word in words: \n",
    "        wcount = wcount + 1\n",
    "print(\"Total words: \", wcount)"
   ]
  },
  {
   "cell_type": "markdown",
   "metadata": {},
   "source": [
    "### Remove test print()s and create a dictionary to track unique words\n",
    "New words will be added as keys and their count will be the associated value"
   ]
  },
  {
   "cell_type": "code",
   "execution_count": null,
   "metadata": {
    "collapsed": true
   },
   "outputs": [],
   "source": [
    "fname = 'data\\Romeo and Juliet.txt'\n",
    "fhand = open(fname)\n",
    "counts = dict()                       # creates and empty dictionary\n",
    "wcount = 0\n",
    "for line in fhand:\n",
    "    words = line.split()\n",
    "    for word in words:\n",
    "        wcount = wcount + 1\n",
    "        if word not in counts:        # if the word isn't already in the dictionary counts\n",
    "            counts[word] = 1          # add the word as a key and one as the value\n",
    "        else:\n",
    "            counts[word] += 1         # otherwise find the key word and increase its value by one\n",
    "print(\"Total words: \", wcount)\n",
    "print(counts)                         # print the dictionary counts"
   ]
  },
  {
   "cell_type": "markdown",
   "metadata": {},
   "source": [
    "### Sort the dictionary by value an print only the x heaviest used\n",
    "Often we only want to see the most often used word or five most often used"
   ]
  },
  {
   "cell_type": "code",
   "execution_count": null,
   "metadata": {
    "collapsed": true
   },
   "outputs": [],
   "source": [
    "fname = 'data\\Romeo and Juliet.txt'\n",
    "fhand = open(fname)\n",
    "counts = dict()\n",
    "wcount = 0\n",
    "for line in fhand:\n",
    "    words = line.split()\n",
    "    for word in words:\n",
    "        wcount = wcount + 1\n",
    "        if word not in counts:\n",
    "            counts[word] = 1\n",
    "        else:\n",
    "            counts[word] += 1\n",
    "# Sort the dictionary by value\n",
    "lst = list()\n",
    "for key, val in counts.items():\n",
    "    lst.append( (val, key) )\n",
    "lst.sort(reverse=True)\n",
    "\n",
    "for key, val in lst[:10] :   # set the number of words to print - print up to 10th most used. [:] to see all\n",
    "    print(key, val)\n",
    "print(\"Total words: \", wcount)"
   ]
  },
  {
   "cell_type": "code",
   "execution_count": null,
   "metadata": {
    "collapsed": true
   },
   "outputs": [],
   "source": [
    "fname = 'data\\Romeo and Juliet.txt'\n",
    "fhand = open(fname)\n",
    "counts = dict()\n",
    "wcount = 0\n",
    "for line in fhand:\n",
    "    words = line.split()\n",
    "    for word in words:\n",
    "        wcount = wcount + 1\n",
    "        if word not in counts:\n",
    "            counts[word] = 1\n",
    "        else:\n",
    "            counts[word] += 1\n",
    "# Sort the dictionary by value\n",
    "lst = list()\n",
    "for key, val in counts.items():\n",
    "    lst.append( (val, key) )\n",
    "lst.sort(reverse=True)\n",
    "\n",
    "for key, val in lst[:10] :   # set the number of words to print - print up to 10th most used. [:] to see all\n",
    "    print(key, val)\n",
    "print(\"Total words: \", wcount)"
   ]
  },
  {
   "cell_type": "markdown",
   "metadata": {},
   "source": [
    "### Add an input() for the file name and then error trap for a bad file name\n",
    "Remember to include the path and that file names aren't case sensitive\n",
    "**Don't put quotes around your entry** - input() expects text. It would be just **data\\Romeo and Juliet.txt**\n",
    "\n",
    "The other text copies of famous documents in the Data folder are:\n",
    "\n",
    "* 95Theses.txt – Germany English translation of Martin Luther's “Disputation on the Power and Efficacy of Indulgences,” also known as “The 95 Theses,”\n",
    "* DoI.txt – US Declaration of Independence\n",
    "* BoR.txt – US Original Bill of Rights\n",
    "* BoR-Full.txt – US Bill of Rights with all Amendments\n",
    "* Constitution.txt – US Constitution\n",
    "* Gettysburg.txt – US President Lincoln's Gettysburg Address\n",
    "* MagnaCarta.txt – England 1215 (English translation)\n",
    "* Margaritaville.txt – Lyrics by Jimmy Buffett\n",
    "* UDHR.txt – UN The Universal Declaration of Human Rights\n",
    "* Romeo and Juliet.txt - Act 2, Scene II. Capulet's orchard.\n"
   ]
  },
  {
   "cell_type": "code",
   "execution_count": null,
   "metadata": {
    "collapsed": true
   },
   "outputs": [],
   "source": [
    "fname = input('Enter the file name: ')\n",
    "try:                                          # Error trap for bad file name\n",
    "    fhand = open(fname)\n",
    "except:\n",
    "    print('File cannot be opened:', fname)    # What to do if file can't be found\n",
    "    exit()\n",
    "counts = dict()\n",
    "wcount = 0\n",
    "for line in fhand:\n",
    "    words = line.split()\n",
    "    for word in words:\n",
    "        wcount = wcount + 1\n",
    "        if word not in counts:\n",
    "            counts[word] = 1\n",
    "        else:\n",
    "            counts[word] += 1\n",
    "# Sort the dictionary by value\n",
    "lst = list()\n",
    "for key, val in counts.items():\n",
    "    lst.append( (val, key) )\n",
    "lst.sort(reverse=True)\n",
    "\n",
    "for key, val in lst[:10] :   # set the number of words to print - print up to 10th most used. [:] to see all\n",
    "    print(key, val)\n",
    "print(\"Total words: \", wcount)"
   ]
  }
 ],
 "metadata": {
  "kernelspec": {
   "display_name": "Python 3",
   "language": "python",
   "name": "python3"
  },
  "language_info": {
   "codemirror_mode": {
    "name": "ipython",
    "version": 3
   },
   "file_extension": ".py",
   "mimetype": "text/x-python",
   "name": "python",
   "nbconvert_exporter": "python",
   "pygments_lexer": "ipython3",
   "version": "3.6.3"
  }
 },
 "nbformat": 4,
 "nbformat_minor": 2
}
